{
 "cells": [
  {
   "cell_type": "code",
   "execution_count": 8,
   "metadata": {},
   "outputs": [],
   "source": [
    "from types import TracebackType\n",
    "from bs4 import BeautifulSoup\n",
    "import requests\n",
    "headers={'User-Agent':'Mozilla/5.0 (Windows NT 10.0; Win64; x64) AppleWebKit/537.36 (KHTML, like Gecko) Chrome/95.0.4638.54 Safari/537.36'}\n",
    "import pandas as pd\n",
    "import Getlink"
   ]
  },
  {
   "cell_type": "code",
   "execution_count": 19,
   "metadata": {},
   "outputs": [],
   "source": [
    "def getNewlists(search_string):\n",
    "    products=[]\n",
    "    prices=[]\n",
    "    links=[]\n",
    "    images=[]\n",
    "    source=requests.get(Getlink.get_flpkrt_url(search_string),headers=headers).content\n",
    "    soup = BeautifulSoup(source,'lxml')\n",
    "    search_results= soup.find_all('div',{'class':'_13oc-S'})\n",
    "    i=1\n",
    "    count=0\n",
    "    while count<5:\n",
    "        products.append(search_results[i].find('div',{'class':'_4rR01T'}).text)\n",
    "        prices.append(search_results[i].find('div',{'class':'_30jeq3 _1_WHN1'}).text)\n",
    "        images.append(search_results[i].find('img',{'class':'_396cs4 _3exPp9'})['src'])\n",
    "        links.append('https://www.flipkart.com'+search_results[i].find('a',{'class':'_1fQZEK'})['href'])\n",
    "        i+=1\n",
    "        count+=1\n",
    "    lists = [products, prices,links,images]\n",
    "    return lists"
   ]
  },
  {
   "cell_type": "code",
   "execution_count": 14,
   "metadata": {},
   "outputs": [
    {
     "name": "stdout",
     "output_type": "stream",
     "text": [
      "                                     0        1  \\\n",
      "0  APPLE iPhone 12 Mini (Black, 64 GB)  ₹40,999   \n",
      "1  APPLE iPhone 12 Mini (White, 64 GB)  ₹40,999   \n",
      "2       APPLE iPhone 12 (Black, 64 GB)  ₹53,999   \n",
      "3       APPLE iPhone SE (White, 64 GB)  ₹27,999   \n",
      "4   APPLE iPhone 12 Mini (Blue, 64 GB)  ₹40,999   \n",
      "\n",
      "                                                   2  \\\n",
      "0  https://www.flipkart.com/apple-iphone-12-mini-...   \n",
      "1  https://www.flipkart.com/apple-iphone-12-mini-...   \n",
      "2  https://www.flipkart.com/apple-iphone-12-black...   \n",
      "3  https://www.flipkart.com/apple-iphone-se-white...   \n",
      "4  https://www.flipkart.com/apple-iphone-12-mini-...   \n",
      "\n",
      "                                                   3  \n",
      "0  https://rukminim1.flixcart.com/image/312/312/k...  \n",
      "1  https://rukminim1.flixcart.com/image/312/312/k...  \n",
      "2  https://rukminim1.flixcart.com/image/312/312/k...  \n",
      "3  https://rukminim1.flixcart.com/image/312/312/k...  \n",
      "4  https://rukminim1.flixcart.com/image/312/312/k...  \n"
     ]
    }
   ],
   "source": [
    "j=0\n",
    "while j<6:\n",
    "    try:       \n",
    "        df = pd.concat([pd.Series(x) for x in getNewlists()], axis=1)\n",
    "        print(df)\n",
    "        j=15\n",
    "    except TypeError:\n",
    "        print('Bad return from webpage, retrying',j)\n",
    "        j+=1        \n",
    "    except Exception as e:\n",
    "        print('Something went wrong, retrying',j)\n",
    "        print(e)\n",
    "        j+=1\n",
    "if(j==6):\n",
    "    print('Something went wrong, please try again')\n"
   ]
  },
  {
   "cell_type": "code",
   "execution_count": 20,
   "metadata": {},
   "outputs": [
    {
     "data": {
      "text/plain": [
       "'APPLE iPhone 12 (Black, 64 GB)'"
      ]
     },
     "execution_count": 20,
     "metadata": {},
     "output_type": "execute_result"
    }
   ],
   "source": [
    "getNewlists(\"Iphone\")[0][0]"
   ]
  }
 ],
 "metadata": {
  "interpreter": {
   "hash": "2be5faf79681da6f2a61fdfdd5405d65d042280f7fba6178067603e3a2925119"
  },
  "kernelspec": {
   "display_name": "Python 3.10.0 64-bit",
   "language": "python",
   "name": "python3"
  },
  "language_info": {
   "codemirror_mode": {
    "name": "ipython",
    "version": 3
   },
   "file_extension": ".py",
   "mimetype": "text/x-python",
   "name": "python",
   "nbconvert_exporter": "python",
   "pygments_lexer": "ipython3",
   "version": "3.9.1"
  },
  "orig_nbformat": 4
 },
 "nbformat": 4,
 "nbformat_minor": 2
}
