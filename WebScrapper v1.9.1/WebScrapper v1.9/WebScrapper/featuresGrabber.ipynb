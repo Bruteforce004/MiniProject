{
 "cells": [
  {
   "cell_type": "code",
   "execution_count": 32,
   "metadata": {},
   "outputs": [],
   "source": [
    "from bs4 import BeautifulSoup\n",
    "import requests\n",
    "headers={'User-Agent':'Mozilla/5.0 (Windows NT 10.0; Win64; x64) AppleWebKit/537.36 (KHTML, like Gecko) Chrome/97.0.4692.71 Safari/537.36'}\n",
    "productlinkA=\"https://www.amazon.in/Apple-iPhone-13-128GB-Pink/dp/B09G9FPGTN/ref=sr_1_3?crid=17TCB2EF5AJLU&keywords=iphone+13&qid=1642432247&sprefix=iph%2Caps%2C276&sr=8-3\"\n",
    "productlinkF=\"https://www.flipkart.com/apple-iphone-13-pro-max-gold-1-tb/p/itmdbbad9da2b178?pid=MOBG6VF5GHTNXG9K&lid=LSTMOBG6VF5GHTNXG9KQLRPNA&marketplace=FLIPKART&q=i+phone+13+pro+max&store=tyy%2F4io&srno=s_1_1&otracker=AS_QueryStore_OrganicAutoSuggest_1_3_na_na_na&otracker1=AS_QueryStore_OrganicAutoSuggest_1_3_na_na_na&fm=SEARCH&iid=1bfd2ec4-bcbc-40ce-8050-a4d1b5234afe.MOBG6VF5GHTNXG9K.SEARCH&ppt=sp&ppn=sp&ssid=zumlaynzps0000001642434327507&qH=db0b1e3384f9c46c\""
   ]
  },
  {
   "cell_type": "code",
   "execution_count": 33,
   "metadata": {},
   "outputs": [],
   "source": [
    "sourceA=requests.get(productlinkA,headers=headers).content  \n",
    "soupA = BeautifulSoup(sourceA,'lxml')\n",
    "sourceF=requests.get(productlinkF,headers=headers).content  \n",
    "soupF = BeautifulSoup(sourceF,'lxml')\n",
    "\n",
    "featuresA=[]\n",
    "featuresF=[]"
   ]
  },
  {
   "cell_type": "code",
   "execution_count": 34,
   "metadata": {},
   "outputs": [],
   "source": [
    "data1=soupA.find('ul',{'class':\"a-unordered-list a-vertical a-spacing-mini\"})\n",
    "for li in data1.find_all(\"li\"):\n",
    "    featuresA.append(li.text)\n"
   ]
  },
  {
   "cell_type": "code",
   "execution_count": 36,
   "metadata": {},
   "outputs": [
    {
     "data": {
      "text/plain": [
       "['1 TB ROM',\n",
       " '17.02 cm (6.7 inch) Super Retina XDR Display',\n",
       " '12MP + 12MP + 12MP | 12MP Front Camera',\n",
       " 'A15 Bionic Chip Processor',\n",
       " '1 TB ROM',\n",
       " '17.02 cm (6.7 inch) Super Retina XDR Display',\n",
       " '12MP + 12MP + 12MP | 12MP Front Camera',\n",
       " 'A15 Bionic Chip Processor']"
      ]
     },
     "execution_count": 36,
     "metadata": {},
     "output_type": "execute_result"
    }
   ],
   "source": [
    "data2=soupF.find('div',{'class':\"_2418kt\"})\n",
    "for li in data2.find_all(\"li\"):\n",
    "    featuresF.append(li.text)\n"
   ]
  }
 ],
 "metadata": {
  "interpreter": {
   "hash": "2be5faf79681da6f2a61fdfdd5405d65d042280f7fba6178067603e3a2925119"
  },
  "kernelspec": {
   "display_name": "Python 3.10.0 64-bit",
   "language": "python",
   "name": "python3"
  },
  "language_info": {
   "codemirror_mode": {
    "name": "ipython",
    "version": 3
   },
   "file_extension": ".py",
   "mimetype": "text/x-python",
   "name": "python",
   "nbconvert_exporter": "python",
   "pygments_lexer": "ipython3",
   "version": "3.9.1"
  },
  "orig_nbformat": 4
 },
 "nbformat": 4,
 "nbformat_minor": 2
}
